{
 "cells": [
  {
   "cell_type": "code",
   "execution_count": 1,
   "id": "6fbeba96",
   "metadata": {},
   "outputs": [],
   "source": [
    "import numpy as np\n",
    "import matplotlib.pyplot as plt\n",
    "import seaborn as sns\n",
    "import pandas as pd\n",
    "import warnings\n",
    "warnings.filterwarnings('ignore') "
   ]
  },
  {
   "cell_type": "code",
   "execution_count": 2,
   "id": "e3d65a5d",
   "metadata": {},
   "outputs": [],
   "source": [
    "df = pd.read_csv(\"Data/StudentsPerformance.csv\")\n",
    "X,y = df.drop('writing score',axis=1),df['writing score']\n"
   ]
  },
  {
   "cell_type": "code",
   "execution_count": 3,
   "id": "1a4c6279",
   "metadata": {},
   "outputs": [],
   "source": [
    "from sklearn.preprocessing import StandardScaler,OneHotEncoder\n",
    "from sklearn.compose import ColumnTransformer\n",
    "from sklearn.model_selection import train_test_split\n",
    "\n",
    "sc = StandardScaler()\n",
    "ohe = OneHotEncoder(drop='first')\n",
    "\n",
    "numeric_features = [col for col in X.columns if X[col].dtype != 'O']\n",
    "categorial_features = [col for col in X.columns if X[col].dtype == 'O']\n",
    "\n",
    "preprocessor = ColumnTransformer(\n",
    "    [\n",
    "        ('StanadardScalar', sc, numeric_features),\n",
    "        ('OneHotEncoder', ohe,categorial_features)\n",
    "    ]\n",
    ")\n"
   ]
  },
  {
   "cell_type": "code",
   "execution_count": 4,
   "id": "f1c5678e",
   "metadata": {},
   "outputs": [],
   "source": [
    "X_train, X_test, y_train, y_test = train_test_split(X,y,test_size=0.25,random_state=42)"
   ]
  },
  {
   "cell_type": "code",
   "execution_count": 5,
   "id": "320b34d5",
   "metadata": {},
   "outputs": [],
   "source": [
    "X_train = preprocessor.fit_transform(X_train)"
   ]
  },
  {
   "cell_type": "code",
   "execution_count": 6,
   "id": "3f3e02e3",
   "metadata": {},
   "outputs": [],
   "source": [
    "X_test = preprocessor.fit_transform(X_test)"
   ]
  },
  {
   "cell_type": "code",
   "execution_count": null,
   "id": "2dcecf58",
   "metadata": {},
   "outputs": [],
   "source": []
  },
  {
   "cell_type": "code",
   "execution_count": 7,
   "id": "0956b3f4",
   "metadata": {},
   "outputs": [],
   "source": [
    "from sklearn.metrics import r2_score,root_mean_squared_error,mean_absolute_error\n",
    "\n",
    "def eval_model(true,pred):\n",
    "    score = r2_score(true,pred)\n",
    "    rmse = root_mean_squared_error(true,pred)\n",
    "    mae = mean_absolute_error(true,pred)\n",
    "    return score,rmse,mae"
   ]
  },
  {
   "cell_type": "code",
   "execution_count": 8,
   "id": "4d21508e",
   "metadata": {},
   "outputs": [],
   "source": [
    "from sklearn.linear_model import LinearRegression,Lasso,Ridge\n",
    "from sklearn.svm import SVR\n",
    "from sklearn.tree import DecisionTreeRegressor\n",
    "from sklearn.neighbors import KNeighborsRegressor\n",
    "from sklearn.ensemble import RandomForestRegressor,AdaBoostRegressor,GradientBoostingRegressor\n",
    "from xgboost import XGBRegressor"
   ]
  },
  {
   "cell_type": "code",
   "execution_count": 9,
   "id": "b00b2c87",
   "metadata": {},
   "outputs": [],
   "source": [
    "models = {\n",
    "    \"LinearRegression\" : LinearRegression(),\n",
    "    \"Lasso\" : Lasso(),\n",
    "    \"Ridge\" : Ridge(),\n",
    "    \"KNeighborsRegressor\" : KNeighborsRegressor(),\n",
    "    \"SVR\" : SVR(),\n",
    "    \"DecisionTreeRegressor\" : DecisionTreeRegressor(),\n",
    "    \"RandomForestRegressor\" : RandomForestRegressor(),\n",
    "    \"AdaBoostRegressor\" : AdaBoostRegressor(),\n",
    "    \"GradientBoostingRegressor\" : GradientBoostingRegressor(),\n",
    "    \"XGBRegressor\" : XGBRegressor()\n",
    "}\n"
   ]
  },
  {
   "cell_type": "code",
   "execution_count": 10,
   "id": "e24c869d",
   "metadata": {},
   "outputs": [
    {
     "name": "stdout",
     "output_type": "stream",
     "text": [
      "LinearRegression\n",
      "----------------------------------\n",
      "Model performance for training dataset:\n",
      "----------------------------------\n",
      "# Mean Absolute Error: 2.6848\n",
      "# Root Mean Sqaured Error: 3.3576\n",
      "# R2 Score: 0.9488\n",
      "----------------------------------\n",
      "Model performance for test dataset:\n",
      "----------------------------------\n",
      "# Mean Absolute Error: 3.8096\n",
      "# Root Mean Sqaured Error: 4.5549\n",
      "# R2 Score: 0.9194\n",
      "\n",
      "\n",
      "Lasso\n",
      "----------------------------------\n",
      "Model performance for training dataset:\n",
      "----------------------------------\n",
      "# Mean Absolute Error: 3.6508\n",
      "# Root Mean Sqaured Error: 4.5097\n",
      "# R2 Score: 0.9076\n",
      "----------------------------------\n",
      "Model performance for test dataset:\n",
      "----------------------------------\n",
      "# Mean Absolute Error: 4.6848\n",
      "# Root Mean Sqaured Error: 5.7806\n",
      "# R2 Score: 0.8703\n",
      "\n",
      "\n",
      "Ridge\n",
      "----------------------------------\n",
      "Model performance for training dataset:\n",
      "----------------------------------\n",
      "# Mean Absolute Error: 2.6850\n",
      "# Root Mean Sqaured Error: 3.3577\n",
      "# R2 Score: 0.9488\n",
      "----------------------------------\n",
      "Model performance for test dataset:\n",
      "----------------------------------\n",
      "# Mean Absolute Error: 3.8116\n",
      "# Root Mean Sqaured Error: 4.5577\n",
      "# R2 Score: 0.9193\n",
      "\n",
      "\n",
      "KNeighborsRegressor\n",
      "----------------------------------\n",
      "Model performance for training dataset:\n",
      "----------------------------------\n",
      "# Mean Absolute Error: 3.1587\n",
      "# Root Mean Sqaured Error: 3.8832\n",
      "# R2 Score: 0.9315\n",
      "----------------------------------\n",
      "Model performance for test dataset:\n",
      "----------------------------------\n",
      "# Mean Absolute Error: 4.5360\n",
      "# Root Mean Sqaured Error: 5.8634\n",
      "# R2 Score: 0.8665\n",
      "\n",
      "\n",
      "SVR\n",
      "----------------------------------\n",
      "Model performance for training dataset:\n",
      "----------------------------------\n",
      "# Mean Absolute Error: 3.2621\n",
      "# Root Mean Sqaured Error: 4.7546\n",
      "# R2 Score: 0.8973\n",
      "----------------------------------\n",
      "Model performance for test dataset:\n",
      "----------------------------------\n",
      "# Mean Absolute Error: 4.9440\n",
      "# Root Mean Sqaured Error: 7.4020\n",
      "# R2 Score: 0.7873\n",
      "\n",
      "\n",
      "DecisionTreeRegressor\n",
      "----------------------------------\n",
      "Model performance for training dataset:\n",
      "----------------------------------\n",
      "# Mean Absolute Error: 0.0213\n",
      "# Root Mean Sqaured Error: 0.2556\n",
      "# R2 Score: 0.9997\n",
      "----------------------------------\n",
      "Model performance for test dataset:\n",
      "----------------------------------\n",
      "# Mean Absolute Error: 5.0240\n",
      "# Root Mean Sqaured Error: 6.2011\n",
      "# R2 Score: 0.8507\n",
      "\n",
      "\n",
      "RandomForestRegressor\n",
      "----------------------------------\n",
      "Model performance for training dataset:\n",
      "----------------------------------\n",
      "# Mean Absolute Error: 1.1850\n",
      "# Root Mean Sqaured Error: 1.4915\n",
      "# R2 Score: 0.9899\n",
      "----------------------------------\n",
      "Model performance for test dataset:\n",
      "----------------------------------\n",
      "# Mean Absolute Error: 4.2167\n",
      "# Root Mean Sqaured Error: 5.1241\n",
      "# R2 Score: 0.8981\n",
      "\n",
      "\n",
      "AdaBoostRegressor\n",
      "----------------------------------\n",
      "Model performance for training dataset:\n",
      "----------------------------------\n",
      "# Mean Absolute Error: 3.3728\n",
      "# Root Mean Sqaured Error: 4.0589\n",
      "# R2 Score: 0.9252\n",
      "----------------------------------\n",
      "Model performance for test dataset:\n",
      "----------------------------------\n",
      "# Mean Absolute Error: 4.3481\n",
      "# Root Mean Sqaured Error: 5.4329\n",
      "# R2 Score: 0.8854\n",
      "\n",
      "\n",
      "GradientBoostingRegressor\n",
      "----------------------------------\n",
      "Model performance for training dataset:\n",
      "----------------------------------\n",
      "# Mean Absolute Error: 2.2968\n",
      "# Root Mean Sqaured Error: 2.8567\n",
      "# R2 Score: 0.9629\n",
      "----------------------------------\n",
      "Model performance for test dataset:\n",
      "----------------------------------\n",
      "# Mean Absolute Error: 3.9325\n",
      "# Root Mean Sqaured Error: 4.8240\n",
      "# R2 Score: 0.9096\n",
      "\n",
      "\n",
      "XGBRegressor\n",
      "----------------------------------\n",
      "Model performance for training dataset:\n",
      "----------------------------------\n",
      "# Mean Absolute Error: 0.3054\n",
      "# Root Mean Sqaured Error: 0.4892\n",
      "# R2 Score: 0.9989\n",
      "----------------------------------\n",
      "Model performance for test dataset:\n",
      "----------------------------------\n",
      "# Mean Absolute Error: 3.9259\n",
      "# Root Mean Sqaured Error: 4.9270\n",
      "# R2 Score: 0.9057\n",
      "\n",
      "\n"
     ]
    }
   ],
   "source": [
    "r2score = []\n",
    "models_ = list(models.values())\n",
    "for i in range (len(list(models))) :\n",
    "    model = models_[i]\n",
    "    model.fit(X_train,y_train)\n",
    "    pred = model.predict(X_train)\n",
    "    score ,rmse ,mae = eval_model(y_train,pred)\n",
    "\n",
    "    print(list(models)[i])\n",
    "    print(\"----------------------------------\")\n",
    "    print(\"Model performance for training dataset:\")\n",
    "    print(\"----------------------------------\")\n",
    "    print(f\"# Mean Absolute Error: {mae:.4f}\")\n",
    "    print(f\"# Root Mean Sqaured Error: {rmse:.4f}\")\n",
    "    print(f\"# R2 Score: {score:.4f}\")\n",
    "\n",
    "    pred = model.predict(X_test)\n",
    "    score, rmse, mae = eval_model(y_test,pred)\n",
    "    r2score.append(score)\n",
    "\n",
    "    print(\"----------------------------------\")\n",
    "    print(\"Model performance for test dataset:\")\n",
    "    print(\"----------------------------------\")\n",
    "    print(f\"# Mean Absolute Error: {mae:.4f}\")\n",
    "    print(f\"# Root Mean Sqaured Error: {rmse:.4f}\")\n",
    "    print(f\"# R2 Score: {score:.4f}\")\n",
    "    print()\n",
    "    print()"
   ]
  },
  {
   "cell_type": "code",
   "execution_count": 11,
   "id": "6d883495",
   "metadata": {},
   "outputs": [],
   "source": [
    "res = pd.DataFrame(list(zip(models.keys(),r2score)), columns= ['Model','R2 Score'])"
   ]
  },
  {
   "cell_type": "code",
   "execution_count": 12,
   "id": "18f790a1",
   "metadata": {},
   "outputs": [
    {
     "data": {
      "text/html": [
       "<div>\n",
       "<style scoped>\n",
       "    .dataframe tbody tr th:only-of-type {\n",
       "        vertical-align: middle;\n",
       "    }\n",
       "\n",
       "    .dataframe tbody tr th {\n",
       "        vertical-align: top;\n",
       "    }\n",
       "\n",
       "    .dataframe thead th {\n",
       "        text-align: right;\n",
       "    }\n",
       "</style>\n",
       "<table border=\"1\" class=\"dataframe\">\n",
       "  <thead>\n",
       "    <tr style=\"text-align: right;\">\n",
       "      <th></th>\n",
       "      <th>Model</th>\n",
       "      <th>R2 Score</th>\n",
       "    </tr>\n",
       "  </thead>\n",
       "  <tbody>\n",
       "    <tr>\n",
       "      <th>0</th>\n",
       "      <td>LinearRegression</td>\n",
       "      <td>0.919447</td>\n",
       "    </tr>\n",
       "    <tr>\n",
       "      <th>2</th>\n",
       "      <td>Ridge</td>\n",
       "      <td>0.919349</td>\n",
       "    </tr>\n",
       "    <tr>\n",
       "      <th>8</th>\n",
       "      <td>GradientBoostingRegressor</td>\n",
       "      <td>0.909646</td>\n",
       "    </tr>\n",
       "    <tr>\n",
       "      <th>9</th>\n",
       "      <td>XGBRegressor</td>\n",
       "      <td>0.905750</td>\n",
       "    </tr>\n",
       "    <tr>\n",
       "      <th>6</th>\n",
       "      <td>RandomForestRegressor</td>\n",
       "      <td>0.898058</td>\n",
       "    </tr>\n",
       "    <tr>\n",
       "      <th>7</th>\n",
       "      <td>AdaBoostRegressor</td>\n",
       "      <td>0.885401</td>\n",
       "    </tr>\n",
       "    <tr>\n",
       "      <th>1</th>\n",
       "      <td>Lasso</td>\n",
       "      <td>0.870261</td>\n",
       "    </tr>\n",
       "    <tr>\n",
       "      <th>3</th>\n",
       "      <td>KNeighborsRegressor</td>\n",
       "      <td>0.866520</td>\n",
       "    </tr>\n",
       "    <tr>\n",
       "      <th>5</th>\n",
       "      <td>DecisionTreeRegressor</td>\n",
       "      <td>0.850698</td>\n",
       "    </tr>\n",
       "    <tr>\n",
       "      <th>4</th>\n",
       "      <td>SVR</td>\n",
       "      <td>0.787274</td>\n",
       "    </tr>\n",
       "  </tbody>\n",
       "</table>\n",
       "</div>"
      ],
      "text/plain": [
       "                       Model  R2 Score\n",
       "0           LinearRegression  0.919447\n",
       "2                      Ridge  0.919349\n",
       "8  GradientBoostingRegressor  0.909646\n",
       "9               XGBRegressor  0.905750\n",
       "6      RandomForestRegressor  0.898058\n",
       "7          AdaBoostRegressor  0.885401\n",
       "1                      Lasso  0.870261\n",
       "3        KNeighborsRegressor  0.866520\n",
       "5      DecisionTreeRegressor  0.850698\n",
       "4                        SVR  0.787274"
      ]
     },
     "execution_count": 12,
     "metadata": {},
     "output_type": "execute_result"
    }
   ],
   "source": [
    "res.sort_values(by='R2 Score',ascending=False)"
   ]
  },
  {
   "cell_type": "code",
   "execution_count": 13,
   "id": "3f9a262c",
   "metadata": {},
   "outputs": [
    {
     "data": {
      "text/plain": [
       "<Axes: xlabel='writing score'>"
      ]
     },
     "execution_count": 13,
     "metadata": {},
     "output_type": "execute_result"
    },
    {
     "data": {
      "image/png": "[encoded data removed]",
      "text/plain": [
       "<Figure size 640x480 with 1 Axes>"
      ]
     },
     "metadata": {},
     "output_type": "display_data"
    }
   ],
   "source": [
    "Model = LinearRegression()\n",
    "Model.fit(X_train,y_train)\n",
    "pred = Model.predict(X_test)\n",
    "\n",
    "sns.scatterplot(x=y_test,y=pred)\n",
    "\n"
   ]
  },
  {
   "cell_type": "code",
   "execution_count": 14,
   "id": "7fe4c784",
   "metadata": {},
   "outputs": [
    {
     "data": {
      "text/plain": [
       "<Axes: xlabel='writing score'>"
      ]
     },
     "execution_count": 14,
     "metadata": {},
     "output_type": "execute_result"
    },
    {
     "data": {
      "image/png": "[encoded data removed]",
      "text/plain": [
       "<Figure size 640x480 with 1 Axes>"
      ]
     },
     "metadata": {},
     "output_type": "display_data"
    }
   ],
   "source": [
    "sns.regplot(x=y_test,y=pred,color='r')"
   ]
  },
  {
   "cell_type": "code",
   "execution_count": 15,
   "id": "fbd5d068",
   "metadata": {},
   "outputs": [],
   "source": [
    "residuals = y_test - pred"
   ]
  },
  {
   "cell_type": "code",
   "execution_count": 16,
   "id": "1f01d97f",
   "metadata": {},
   "outputs": [
    {
     "data": {
      "text/plain": [
       "Text(0, 0.5, 'Residuals')"
      ]
     },
     "execution_count": 16,
     "metadata": {},
     "output_type": "execute_result"
    },
    {
     "data": {
      "image/png": "[encoded data removed]",
      "text/plain": [
       "<Figure size 640x480 with 1 Axes>"
      ]
     },
     "metadata": {},
     "output_type": "display_data"
    }
   ],
   "source": [
    "sns.scatterplot(x= y_test,y = residuals)\n",
    "plt.xlabel('Target values')\n",
    "plt.ylabel('Residuals')\n"
   ]
  },
  {
   "cell_type": "code",
   "execution_count": null,
   "id": "b1918d1c",
   "metadata": {},
   "outputs": [],
   "source": []
  }
 ],
 "metadata": {
  "kernelspec": {
   "display_name": "Python 3",
   "language": "python",
   "name": "python3"
  },
  "language_info": {
   "codemirror_mode": {
    "name": "ipython",
    "version": 3
   },
   "file_extension": ".py",
   "mimetype": "text/x-python",
   "name": "python",
   "nbconvert_exporter": "python",
   "pygments_lexer": "ipython3",
   "version": "3.12.0"
  }
 },
 "nbformat": 4,
 "nbformat_minor": 5
}
